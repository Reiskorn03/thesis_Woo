{
 "cells": [
  {
   "cell_type": "code",
   "execution_count": 1,
   "id": "9cc20ddc",
   "metadata": {},
   "outputs": [],
   "source": [
    "import os\n",
    "import pandas as pd"
   ]
  },
  {
   "cell_type": "markdown",
   "id": "db7c9337",
   "metadata": {},
   "source": [
    "## PRA_HIST Subset Cleaning\n",
    "\n",
    "1. **Load the raw subset**  \n",
    "   Read in the extracted `pra_hist_subset.csv`, which contains all candidate‐level PRA history records.\n",
    "\n",
    "2. **Drop unneeded columns**  \n",
    "   We remove three PRA fields with high missingness or only useful when grouping:\n",
    "   - **CANHX_ALLOC_PRA** (Allocation PRA; 60.3% missing)  \n",
    "   - **CANHX_CUR_PRA** (Current PRA; 57.9% missing)  \n",
    "   - **CANHX_SRTR_PEAK_PRA** (Peak PRA; 57.7% missing)\n",
    "\n",
    "3. **Retain the core PRA features**  \n",
    "   Keep the essential fields with low missingness or primary importance:\n",
    "   - **PX_ID** – Patient identifier (key)  \n",
    "   - **WL_ORG** – Organ type  \n",
    "   - **CANHX_BEGIN_DT** – Date the PRA record was last changed  \n",
    "   - **CANHX_CPRA** – Calculated PRA (raw fraction; only 3.4% missing)\n",
    "\n",
    "4. **Save the cleaned dataset**  \n",
    "   Write out to `clean_subsets_ver1/pra_hist_clean.csv` for downstream analysis.\n"
   ]
  },
  {
   "cell_type": "code",
   "execution_count": 3,
   "id": "8ce1ce35",
   "metadata": {},
   "outputs": [
    {
     "name": "stdout",
     "output_type": "stream",
     "text": [
      "Saved cleaned PRA_HIST to /Users/chanyoungwoo/Thesis/Data_Extraction/clean_subsets_ver1/pra_hist_clean.csv (shape (4425413, 4))\n"
     ]
    }
   ],
   "source": [
    "SUBSET_FOLDER = \"/Users/chanyoungwoo/Thesis/Data_Extraction/extracted_subsets\"\n",
    "CLEAN_FOLDER = \"/Users/chanyoungwoo/Thesis/Data_Extraction/clean_subsets_ver1\"\n",
    "os.makedirs(CLEAN_FOLDER, exist_ok=True)\n",
    "\n",
    "in_path = os.path.join(SUBSET_FOLDER, \"pra_hist_subset.csv\")\n",
    "pra = pd.read_csv(in_path)\n",
    "\n",
    "to_drop = [\n",
    "    \"CANHX_ALLOC_PRA\",\n",
    "    \"CANHX_CUR_PRA\",\n",
    "    \"CANHX_SRTR_PEAK_PRA\",\n",
    "]\n",
    "pra_clean = pra.drop(columns=to_drop)\n",
    "\n",
    "out_path = os.path.join(CLEAN_FOLDER, \"pra_hist_clean.csv\")\n",
    "pra_clean.to_csv(out_path, index=False)\n",
    "\n",
    "print(f\"Saved cleaned PRA_HIST to {out_path} (shape {pra_clean.shape})\")"
   ]
  }
 ],
 "metadata": {
  "kernelspec": {
   "display_name": ".venv",
   "language": "python",
   "name": "python3"
  },
  "language_info": {
   "codemirror_mode": {
    "name": "ipython",
    "version": 3
   },
   "file_extension": ".py",
   "mimetype": "text/x-python",
   "name": "python",
   "nbconvert_exporter": "python",
   "pygments_lexer": "ipython3",
   "version": "3.9.6"
  }
 },
 "nbformat": 4,
 "nbformat_minor": 5
}
