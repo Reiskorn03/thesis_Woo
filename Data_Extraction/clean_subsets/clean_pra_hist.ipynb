{
 "cells": [
  {
   "cell_type": "code",
   "execution_count": 2,
   "id": "9cc20ddc",
   "metadata": {},
   "outputs": [],
   "source": [
    "import os\n",
    "import pandas as pd"
   ]
  },
  {
   "cell_type": "markdown",
   "id": "72134bdf",
   "metadata": {},
   "source": [
    "**Drop (remove) the following features**\n",
    "\n",
    "- CANHX_BEGIN_DT: Duplicate from STATHIST_KIPA"
   ]
  },
  {
   "cell_type": "markdown",
   "id": "db7c9337",
   "metadata": {},
   "source": [
    "**Keep (retain) the following core features**\n",
    "\n",
    "- CANHX_ALLOC_PRA: 60.33% Missing value\n",
    "\n",
    "- CANHX_CUR_PRA: 57.91% Missing value\n",
    "\n",
    "- CANHX_SRTR_PEAK_PRA: 57.70% Missing value\n",
    "\n",
    "- CANHX_CPRA: 3.40% Missing value\n",
    "\n",
    "- PX_ID: 0.0% Missing value\n",
    "\n",
    "- WL_ORG: 0.0% Missing value"
   ]
  },
  {
   "cell_type": "code",
   "execution_count": 4,
   "id": "8ce1ce35",
   "metadata": {},
   "outputs": [
    {
     "name": "stdout",
     "output_type": "stream",
     "text": [
      "Saved cleaned PRA_HIST to /Users/chanyoungwoo/Thesis/Data_Extraction/clean_subsets_ver2/pra_hist_subset_ver2.csv (shape (4425413, 6))\n"
     ]
    },
    {
     "data": {
      "text/html": [
       "<div>\n",
       "<style scoped>\n",
       "    .dataframe tbody tr th:only-of-type {\n",
       "        vertical-align: middle;\n",
       "    }\n",
       "\n",
       "    .dataframe tbody tr th {\n",
       "        vertical-align: top;\n",
       "    }\n",
       "\n",
       "    .dataframe thead th {\n",
       "        text-align: right;\n",
       "    }\n",
       "</style>\n",
       "<table border=\"1\" class=\"dataframe\">\n",
       "  <thead>\n",
       "    <tr style=\"text-align: right;\">\n",
       "      <th></th>\n",
       "      <th>PX_ID</th>\n",
       "      <th>WL_ORG</th>\n",
       "      <th>CANHX_SRTR_PEAK_PRA</th>\n",
       "      <th>CANHX_CUR_PRA</th>\n",
       "      <th>CANHX_ALLOC_PRA</th>\n",
       "      <th>CANHX_CPRA</th>\n",
       "    </tr>\n",
       "  </thead>\n",
       "  <tbody>\n",
       "    <tr>\n",
       "      <th>0</th>\n",
       "      <td>-1999983.0</td>\n",
       "      <td>PA</td>\n",
       "      <td>NaN</td>\n",
       "      <td>NaN</td>\n",
       "      <td>NaN</td>\n",
       "      <td>0.0</td>\n",
       "    </tr>\n",
       "    <tr>\n",
       "      <th>1</th>\n",
       "      <td>-1999969.0</td>\n",
       "      <td>KI</td>\n",
       "      <td>3.0</td>\n",
       "      <td>0.0</td>\n",
       "      <td>3.0</td>\n",
       "      <td>0.0</td>\n",
       "    </tr>\n",
       "    <tr>\n",
       "      <th>2</th>\n",
       "      <td>-1999969.0</td>\n",
       "      <td>KI</td>\n",
       "      <td>39.0</td>\n",
       "      <td>39.0</td>\n",
       "      <td>39.0</td>\n",
       "      <td>0.0</td>\n",
       "    </tr>\n",
       "    <tr>\n",
       "      <th>3</th>\n",
       "      <td>-1999969.0</td>\n",
       "      <td>KI</td>\n",
       "      <td>43.0</td>\n",
       "      <td>43.0</td>\n",
       "      <td>43.0</td>\n",
       "      <td>0.0</td>\n",
       "    </tr>\n",
       "    <tr>\n",
       "      <th>4</th>\n",
       "      <td>-1999969.0</td>\n",
       "      <td>KI</td>\n",
       "      <td>43.0</td>\n",
       "      <td>27.0</td>\n",
       "      <td>43.0</td>\n",
       "      <td>0.0</td>\n",
       "    </tr>\n",
       "  </tbody>\n",
       "</table>\n",
       "</div>"
      ],
      "text/plain": [
       "       PX_ID WL_ORG  CANHX_SRTR_PEAK_PRA  CANHX_CUR_PRA  CANHX_ALLOC_PRA  \\\n",
       "0 -1999983.0     PA                  NaN            NaN              NaN   \n",
       "1 -1999969.0     KI                  3.0            0.0              3.0   \n",
       "2 -1999969.0     KI                 39.0           39.0             39.0   \n",
       "3 -1999969.0     KI                 43.0           43.0             43.0   \n",
       "4 -1999969.0     KI                 43.0           27.0             43.0   \n",
       "\n",
       "   CANHX_CPRA  \n",
       "0         0.0  \n",
       "1         0.0  \n",
       "2         0.0  \n",
       "3         0.0  \n",
       "4         0.0  "
      ]
     },
     "execution_count": 4,
     "metadata": {},
     "output_type": "execute_result"
    }
   ],
   "source": [
    "SUBSET_FOLDER = \"/Users/chanyoungwoo/Thesis/extracted_subsets\"\n",
    "CLEAN_FOLDER = \"/Users/chanyoungwoo/Thesis/Data_Extraction/clean_subsets_ver2\"\n",
    "os.makedirs(CLEAN_FOLDER, exist_ok=True)\n",
    "\n",
    "in_path = os.path.join(SUBSET_FOLDER, \"pra_hist_subset_ver1.csv\")\n",
    "pra = pd.read_csv(in_path)\n",
    "\n",
    "to_drop = [\n",
    "    \"CANHX_BEGIN_DT\",\n",
    "]\n",
    "pra_clean = pra.drop(columns=to_drop)\n",
    "\n",
    "out_path = os.path.join(CLEAN_FOLDER, \"pra_hist_subset_ver2.csv\")\n",
    "pra_clean.to_csv(out_path, index=False)\n",
    "\n",
    "print(f\"Saved cleaned PRA_HIST to {out_path} (shape {pra_clean.shape})\")\n",
    "pra_clean.head()"
   ]
  },
  {
   "cell_type": "markdown",
   "id": "bf23142f",
   "metadata": {},
   "source": [
    "Analyse if there are several entrys for same PX_ID:"
   ]
  },
  {
   "cell_type": "code",
   "execution_count": 3,
   "id": "85d39e5e",
   "metadata": {},
   "outputs": [
    {
     "name": "stdout",
     "output_type": "stream",
     "text": [
      "Total records: 4425413\n",
      "Unique PX_IDs: 1054194\n",
      "PX_IDs with duplicates: 543069\n",
      "\n",
      "Beispiele für mehrfach vorkommende PX_IDs und deren Counts:\n",
      "PX_ID\n",
      "905251.0     1076\n",
      "1008476.0    1018\n",
      "308848.0     1003\n",
      "531463.0      999\n",
      "593585.0      988\n",
      "905622.0      901\n",
      "732408.0      896\n",
      "629118.0      887\n",
      "779820.0      883\n",
      "456567.0      791\n",
      "Name: count, dtype: int64\n"
     ]
    }
   ],
   "source": [
    "file_path = \"/Users/chanyoungwoo/Thesis/Data_Extraction/clean_subsets_ver2/pra_hist_subset_ver2.csv\"\n",
    "pra = pd.read_csv(file_path)\n",
    "px_counts = pra[\"PX_ID\"].value_counts()\n",
    "duplicates = px_counts[px_counts > 1]\n",
    "\n",
    "print(f\"Total records: {len(pra)}\")\n",
    "print(f\"Unique PX_IDs: {px_counts.size}\")\n",
    "print(f\"PX_IDs with duplicates: {len(duplicates)}\")\n",
    "\n",
    "if not duplicates.empty:\n",
    "    print(\"\\nBeispiele für mehrfach vorkommende PX_IDs und deren Counts:\")\n",
    "    print(duplicates.head(10))\n",
    "else:\n",
    "    print(\"\\nAlle PX_IDs kommen nur einmal vor.\")"
   ]
  }
 ],
 "metadata": {
  "kernelspec": {
   "display_name": ".venv",
   "language": "python",
   "name": "python3"
  },
  "language_info": {
   "codemirror_mode": {
    "name": "ipython",
    "version": 3
   },
   "file_extension": ".py",
   "mimetype": "text/x-python",
   "name": "python",
   "nbconvert_exporter": "python",
   "pygments_lexer": "ipython3",
   "version": "3.9.6"
  }
 },
 "nbformat": 4,
 "nbformat_minor": 5
}
