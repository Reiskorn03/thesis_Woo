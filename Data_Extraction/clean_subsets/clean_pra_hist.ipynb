{
 "cells": [
  {
   "cell_type": "code",
   "execution_count": 1,
   "id": "9cc20ddc",
   "metadata": {},
   "outputs": [],
   "source": [
    "import os\n",
    "import pandas as pd"
   ]
  },
  {
   "cell_type": "markdown",
   "id": "72134bdf",
   "metadata": {},
   "source": [
    "**Drop (remove) the following features**\n",
    "\n",
    "- CANHX_BEGIN_DT: Duplicate from STATHIST_KIPA"
   ]
  },
  {
   "cell_type": "markdown",
   "id": "db7c9337",
   "metadata": {},
   "source": [
    "**Keep (retain) the following core features**\n",
    "\n",
    "- CANHX_ALLOC_PRA: 60.33% Missing value\n",
    "\n",
    "- CANHX_CUR_PRA: 57.91% Missing value\n",
    "\n",
    "- CANHX_SRTR_PEAK_PRA: 57.70% Missing value\n",
    "\n",
    "- CANHX_CPRA: 3.40% Missing value\n",
    "\n",
    "- PX_ID: 0.0% Missing value\n",
    "\n",
    "- WL_ORG: 0.0% Missing value"
   ]
  },
  {
   "cell_type": "code",
   "execution_count": null,
   "id": "8ce1ce35",
   "metadata": {},
   "outputs": [
    {
     "name": "stdout",
     "output_type": "stream",
     "text": [
      "Saved cleaned PRA_HIST to /Users/chanyoungwoo/Thesis/Data_Extraction/clean_subsets_ver1/pra_hist_clean.csv (shape (4425413, 6))\n"
     ]
    }
   ],
   "source": [
    "SUBSET_FOLDER = \"/Users/chanyoungwoo/Thesis/extracted_subsets\"\n",
    "CLEAN_FOLDER = \"/Users/chanyoungwoo/Thesis/Data_Extraction/clean_subsets_ver2\"\n",
    "os.makedirs(CLEAN_FOLDER, exist_ok=True)\n",
    "\n",
    "in_path = os.path.join(SUBSET_FOLDER, \"pra_hist_subset_ver1.csv\")\n",
    "pra = pd.read_csv(in_path)\n",
    "\n",
    "to_drop = [\n",
    "    \"CANHX_BEGIN_DT\",\n",
    "]\n",
    "pra_clean = pra.drop(columns=to_drop)\n",
    "\n",
    "out_path = os.path.join(CLEAN_FOLDER, \"pra_hist_clean.csv\")\n",
    "pra_clean.to_csv(out_path, index=False)\n",
    "\n",
    "print(f\"Saved cleaned PRA_HIST to {out_path} (shape {pra_clean.shape})\")"
   ]
  }
 ],
 "metadata": {
  "kernelspec": {
   "display_name": ".venv",
   "language": "python",
   "name": "python3"
  },
  "language_info": {
   "codemirror_mode": {
    "name": "ipython",
    "version": 3
   },
   "file_extension": ".py",
   "mimetype": "text/x-python",
   "name": "python",
   "nbconvert_exporter": "python",
   "pygments_lexer": "ipython3",
   "version": "3.9.6"
  }
 },
 "nbformat": 4,
 "nbformat_minor": 5
}
