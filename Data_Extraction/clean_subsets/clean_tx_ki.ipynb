{
 "cells": [
  {
   "cell_type": "code",
   "execution_count": null,
   "id": "305bc5a1",
   "metadata": {},
   "outputs": [],
   "source": [
    "import os\n",
    "import pandas as pd"
   ]
  },
  {
   "cell_type": "markdown",
   "id": "eba9d52a",
   "metadata": {},
   "source": [
    "**Drop (remove) the following features**\n",
    "\n",
    "- REC_COD3 & REC_COD2: Missing value 99%, Contributory Cause of Death is not important for our analysis\n",
    "\n",
    "- "
   ]
  },
  {
   "cell_type": "markdown",
   "id": "d099f124",
   "metadata": {},
   "source": [
    "**Features with high Missing value but with potential importance** \n",
    "\n",
    "- REC_PREV_GRAFT3_DT: 99.96% Missing value, but Missingness might be so high because there are very little people who had 3rd Graft Failure\n",
    "\n",
    "- "
   ]
  },
  {
   "cell_type": "markdown",
   "id": "99074718",
   "metadata": {},
   "source": [
    "**Keep (retain) the following core features**\n"
   ]
  },
  {
   "cell_type": "markdown",
   "id": "76090c98",
   "metadata": {},
   "source": [
    "## TX_KI Subset Cleaning\n",
    "\n",
    "1. **Load the raw subset**  \n",
    "   Read in the extracted `tx_ki_subset.csv`, which contains a summary table of all Kidney Transplant records.\n",
    "\n",
    "\n",
    "2. **Drop unneeded columns**  \n",
    "   We remove servaral features with high missingness or only useful when grouping:\n",
    "   - **CANHX_ALLOC_PRA** (Allocation PRA; 60.3% missing)  \n",
    "\n",
    "3. **Retain the core PRA features**  \n",
    "   Keep the essential fields with low missingness or primary importance:\n",
    "   - **PX_ID** – Patient identifier (key)  \n",
    "   - **WL_ORG** – Organ type  \n",
    "   - **CANHX_BEGIN_DT** – Date the PRA record was last changed  \n",
    "   - **CANHX_CPRA** – Calculated PRA (raw fraction; only 3.4% missing)\n",
    "   - **CANHX_CUR_PRA** (Current PRA; 57.9% missing)  \n",
    "   - **CANHX_SRTR_PEAK_PRA** (Peak PRA; 57.7% missing)\n",
    "\n",
    "\n",
    "4. **Save the cleaned dataset**  \n",
    "   Write out to `clean_subsets_ver1/tx_ki_clean.csv` for downstream analysis.\n"
   ]
  },
  {
   "cell_type": "code",
   "execution_count": null,
   "id": "7bad43b7",
   "metadata": {},
   "outputs": [],
   "source": [
    "SUBSET_FOLDER = \"/Users/chanyoungwoo/Thesis/Data_Extraction/extracted_subsets\"\n",
    "CLEAN_FOLDER = \"/Users/chanyoungwoo/Thesis/Data_Extraction/clean_subsets_ver1\"\n",
    "os.makedirs(CLEAN_FOLDER, exist_ok=True)\n",
    "\n",
    "in_path = os.path.join(SUBSET_FOLDER, \"tx_ki_subset.csv\")\n",
    "tx = pd.read_csv(in_path)\n",
    "\n",
    "to_drop = [\n",
    "    \"REC_COD3\", \"REC_COD2\",\n",
    "    \"\", \"\",\n",
    "    \"\", \"\",\n",
    "    \"\", \"\",\n",
    "    \"\", \"\",\n",
    "    \"\", \"\",\n",
    "]\n",
    "tx_clean = tx.drop(columns=to_drop)\n",
    "\n",
    "out_path = os.path.join(CLEAN_FOLDER, \"tx_ki_clean.csv\")\n",
    "tx_clean.to_csv(out_path, index=False)\n",
    "\n",
    "print(f\"Saved cleaned TX_KI to {out_path} (shape {tx_clean.shape})\")"
   ]
  }
 ],
 "metadata": {
  "language_info": {
   "name": "python"
  }
 },
 "nbformat": 4,
 "nbformat_minor": 5
}
