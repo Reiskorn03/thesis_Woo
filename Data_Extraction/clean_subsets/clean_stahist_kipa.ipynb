{
 "cells": [
  {
   "cell_type": "code",
   "execution_count": 3,
   "id": "b63583a4",
   "metadata": {},
   "outputs": [],
   "source": [
    "import pandas as pd\n",
    "import os"
   ]
  },
  {
   "cell_type": "markdown",
   "id": "ee05299b",
   "metadata": {},
   "source": [
    "**STATHIST_KIPA Cleaning**\n",
    "\n",
    "Dropped features\n",
    "\n",
    "- CAN_INIT_INACT_STAT_DT: 27% missing – absence likely indicates still-active status (implicitly captured), so explicit “first inactive” date is redundant.\n",
    "\n",
    "- CAN_LAST_ACT_STAT_DT: 5% missing – largely replicates CANHX_BEGIN_DT_TM (start of each status period), so unnecessary.\n",
    "\n",
    "- CAN_LAST_INACT_STAT_DT: 27% missing – same rationale as CAN_INIT_INACT_STAT_DT: missingness itself conveys “not yet inactive,” and explicit end-date not needed.\n",
    "\n",
    "Kept features\n",
    "\n",
    "- PX_ID (Patient ID) – primary key for merges.\n",
    "\n",
    "- WL_ORG (Organ type) – identifies kidney vs. other listings.\n",
    "\n",
    "- CANHX_BEGIN_DT_TM (WL status period begin) – defines when each active/inactive interval starts.\n",
    "\n",
    "- CANHX_END_DT (WL status period end date) – endpoint of waiting-list status period.\n",
    "\n",
    "- CANHX_END_DT_TM (WL status period end datetime) – higher-precision end timestamp.\n",
    "\n",
    "- CAN_REM_CD (Reason removal) – captures why candidate left the list (transplant, death, other).\n",
    "\n",
    "- CANHX_STAT_CD (WL status code) – indicates active vs. inactive listing during each interval.\n",
    "\n",
    "- CAN_LISTING_DT (Listing date) – baseline when candidate first added to waiting list.\n",
    "\n",
    "- CAN_INIT_ACT_STAT_DT (Date first active) – confirms initial activation date, even if later periods follow.\n",
    "\n"
   ]
  },
  {
   "cell_type": "code",
   "execution_count": null,
   "id": "d1106f63",
   "metadata": {},
   "outputs": [
    {
     "name": "stdout",
     "output_type": "stream",
     "text": [
      "Cleaned STATHIST_KIPA saved to /Users/chanyoungwoo/Thesis/Data_Extraction/clean_subsets_ver1/stathist_kipa_clean.csv\n"
     ]
    }
   ],
   "source": [
    "SUBSET_FOLDER = \"/Users/chanyoungwoo/Thesis/Data_Extraction/extracted_subsets\"\n",
    "OUTPUT_FOLDER = \"/Users/chanyoungwoo/Thesis/Data_Extraction/clean_subsets_ver1\"\n",
    "os.makedirs(OUTPUT_FOLDER, exist_ok=True)\n",
    "\n",
    "stathist = pd.read_csv(os.path.join(SUBSET_FOLDER, \"stathist_kipa_subset.csv\"))\n",
    "\n",
    "to_drop = [\n",
    "    \"CAN_INIT_INACT_STAT_DT\",\n",
    "    \"CAN_LAST_ACT_STAT_DT\",\n",
    "    \"CAN_LAST_INACT_STAT_DT\",\n",
    "]\n",
    "stathist_clean = stathist.drop(columns=to_drop)\n",
    "\n",
    "out_path = os.path.join(OUTPUT_FOLDER, \"stathist_kipa_clean.csv\")\n",
    "stathist_clean.to_csv(out_path, index=False)\n",
    "\n",
    "print(f\"Cleaned STATHIST_KIPA saved to {out_path}\")"
   ]
  }
 ],
 "metadata": {
  "kernelspec": {
   "display_name": ".venv",
   "language": "python",
   "name": "python3"
  },
  "language_info": {
   "codemirror_mode": {
    "name": "ipython",
    "version": 3
   },
   "file_extension": ".py",
   "mimetype": "text/x-python",
   "name": "python",
   "nbconvert_exporter": "python",
   "pygments_lexer": "ipython3",
   "version": "3.9.6"
  }
 },
 "nbformat": 4,
 "nbformat_minor": 5
}
